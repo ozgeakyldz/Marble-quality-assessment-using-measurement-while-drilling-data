{
 "cells": [
  {
   "cell_type": "markdown",
   "id": "f7a9b6c8-7eeb-4064-9506-2ab2b7812d1e",
   "metadata": {},
   "source": [
    "### In this notebook, the code used to train logistic regression and random forest models to predict TAPPI value is shared. Please read the article and README.md file for more information. Do not hessitate to reach out if you think something looks strange :)"
   ]
  },
  {
   "cell_type": "code",
   "execution_count": null,
   "id": "5d0cec73-59b3-49fa-9c7c-c3ff19427a39",
   "metadata": {},
   "outputs": [],
   "source": [
    "# IMPORT THE NECESSARY LIBRARIES\n",
    "\n",
    "import joblib\n",
    "import pandas as pd\n",
    "import numpy as np\n",
    "import seaborn as sns\n",
    "import matplotlib.pyplot as plt \n",
    "from sklearn.ensemble import RandomForestClassifier\n",
    "from sklearn.linear_model import LogisticRegression\n",
    "from sklearn.metrics import ConfusionMatrixDisplay, confusion_matrix, classification_report, roc_curve, roc_auc_score\n",
    "from sklearn.model_selection import train_test_split, StratifiedShuffleSplit, RepeatedStratifiedKFold, GridSearchCV"
   ]
  },
  {
   "cell_type": "code",
   "execution_count": null,
   "id": "252a631d-35ea-4fc3-989d-0db62b05683b",
   "metadata": {
    "tags": []
   },
   "outputs": [],
   "source": [
    "# LOAD THE DATASET\n",
    "\n",
    "data = pd.read_excel('name_of_the_excel_sheet_with_dataset')"
   ]
  },
  {
   "cell_type": "code",
   "execution_count": null,
   "id": "040a6e27-c939-4325-80fe-35ba3204d203",
   "metadata": {
    "tags": []
   },
   "outputs": [],
   "source": [
    "# DEFINE THE INPUTS\n",
    "\n",
    "X = data[['name_of_the_input_columns']]"
   ]
  },
  {
   "cell_type": "code",
   "execution_count": null,
   "id": "67d014c6-e680-4476-a676-023b8fa696e1",
   "metadata": {},
   "outputs": [],
   "source": [
    "# DEFINE THE OUTPUT\n",
    "\n",
    "y = data[['name_of_the_output_column']]"
   ]
  },
  {
   "cell_type": "code",
   "execution_count": null,
   "id": "174b0c60-12ca-455f-bd08-aab5f70e2efd",
   "metadata": {},
   "outputs": [],
   "source": [
    "# DIVIDE THE DATASET INTO TWO AS X (INPUTS) AND Y (OUTPUT), DEFINE THE TRAIN AND TEST SET WHILE PRESERVING THE PERCENTAGE OF SAMPLES FOR EACH CLASS\n",
    "\n",
    "sss = StratifiedShuffleSplit(n_splits=1, test_size=0.20, random_state=33)\n",
    "sss.get_n_splits(X, y)\n",
    "for train_index, test_index in sss.split(X, y):\n",
    "    print(\"TRAIN:\", train_index, \"TEST:\", test_index)\n",
    "    X_train, X_test = X.iloc[train_index], X.iloc[test_index]\n",
    "    y_train, y_test = y.iloc[train_index], y.iloc[test_index]\n",
    "X_train"
   ]
  },
  {
   "cell_type": "code",
   "execution_count": null,
   "id": "361c6148-41d4-47a3-9c7e-5e4ee60148d8",
   "metadata": {
    "tags": []
   },
   "outputs": [],
   "source": [
    "# TRAIN AND SEE THE ACCURACY FOR EACH RANDOM FOREST MODEL WITH DIFFERENT HYPERPARAMETERS\n",
    "\n",
    "model = RandomForestClassifier(max_depth=6, random_state=40) #max derinligi 10 ile kisitlayarak over fit yapmasini engelledim. \n",
    "n_estimators = range(100, 120)\n",
    "max_features = ['sqrt', 'log2']\n",
    "\n",
    "grid = dict(n_estimators=n_estimators,max_features=max_features)\n",
    "cv = RepeatedStratifiedKFold(n_splits=10, n_repeats=3, random_state=1) \n",
    "\n",
    "#Repeats Stratified K-Fold n times with different randomization in each repetition.\n",
    "#This cross-validation object is a variation of KFold that returns stratified folds. The folds are made by preserving the percentage of samples for each class.\n",
    "#n_splits, Number of folds. Must be at least 2.\n",
    "#n_repeats, Number of times cross-validator needs to be repeated.\n",
    "\n",
    "grid_search = GridSearchCV(estimator=model, param_grid=grid, n_jobs=-1, cv=cv, scoring='accuracy',error_score=0)\n",
    "grid_result = grid_search.fit(X_train, y_train)\n",
    "\n",
    "print(\"Best: %f using %s\" % (grid_result.best_score_, grid_result.best_params_))\n",
    "means = grid_result.cv_results_['mean_test_score']\n",
    "stds = grid_result.cv_results_['std_test_score']\n",
    "params = grid_result.cv_results_['params']\n",
    "for mean, stdev, param in zip(means, stds, params):\n",
    "    print(\"%f (%f) with: %r\" % (mean, stdev, param))"
   ]
  },
  {
   "cell_type": "code",
   "execution_count": null,
   "id": "7f0d8688-cdac-4788-be37-2a5cdf1ec38c",
   "metadata": {
    "tags": []
   },
   "outputs": [],
   "source": [
    "# FIT THE BEST RANDOM FOREST MODEL TO REACH IT AFTER GRID SEARCH\n",
    "\n",
    "grid_search.best_params_\n",
    "model = grid_search.best_estimator_\n",
    "model.fit(X_train, y_train)"
   ]
  },
  {
   "cell_type": "code",
   "execution_count": null,
   "id": "a171c06b-d116-417c-b904-f2947d2e1eea",
   "metadata": {
    "tags": []
   },
   "outputs": [],
   "source": [
    "# PREDICT THE TRAIN AND TEST OUTPUT TO SEE WHETHER THE RANDOM FOREST MODEL OVERFITS OT NOT\n",
    "\n",
    "train_pred = model.predict(X_train)\n",
    "y_pred = model.predict(X_test)"
   ]
  },
  {
   "cell_type": "code",
   "execution_count": null,
   "id": "c87482f0-888e-4107-8453-83a8960da075",
   "metadata": {},
   "outputs": [],
   "source": [
    "# VISUALIZE THE RESULT WITH CONFUSION MATRIX AND CALCULATE THE ACCURACY FOR TEST DATA\n",
    "\n",
    "cm = confusion_matrix(y_test, y_pred)\n",
    "ax = sns.heatmap(cm, annot=True, annot_kws={\"size\": 13.5}, fmt=\".0f\", cmap = 'RdYlBu')\n",
    "ax.xaxis.set_ticklabels([1,2,3,4,5,6])\n",
    "ax.yaxis.set_ticklabels([1,2,3,4,5,6])\n",
    "ax.set_title('Confusion matrix', fontsize=17)\n",
    "ax.set_xlabel('Predictions', fontsize=17)\n",
    "ax.set_ylabel('True values', fontsize=17)\n",
    "plt.show();\n",
    "print('test acc:', model.score(X_test, y_test))"
   ]
  },
  {
   "cell_type": "code",
   "execution_count": null,
   "id": "b49c1167-9475-4796-ae1a-51c9263ed571",
   "metadata": {},
   "outputs": [],
   "source": [
    "# VISUALIZE THE RESULT WITH CONFUSION MATRIX AND CALCULATE THE ACCURACY FOR TRAIN DATA\n",
    "\n",
    "cm = confusion_matrix(y_train, train_pred)\n",
    "ax = sns.heatmap(cm, annot=True, annot_kws={\"size\": 13.5}, fmt=\".0f\", cmap = 'RdYlBu')\n",
    "ax.xaxis.set_ticklabels([1,2,3,4,5,6])\n",
    "ax.yaxis.set_ticklabels([1,2,3,4,5,6])\n",
    "ax.set_title('Confusion matrix', fontsize=17)\n",
    "ax.set_xlabel('Predictions', fontsize=17)\n",
    "ax.set_ylabel('True values', fontsize=17)\n",
    "plt.show();\n",
    "print('train acc:', model.score(X_train, y_train))"
   ]
  },
  {
   "cell_type": "code",
   "execution_count": null,
   "id": "b66b5e80-7ef4-482b-bc53-19ad6cedc456",
   "metadata": {},
   "outputs": [],
   "source": [
    "# SAVE THE RANDOM FOREST MODEL FOR FUTURE USE\n",
    "\n",
    "filename = 'name_of_the_random_forest_model.sav'\n",
    "joblib.dump(model, filename)"
   ]
  },
  {
   "cell_type": "code",
   "execution_count": null,
   "id": "80674993-697f-4131-924e-ed628fd85ac1",
   "metadata": {
    "tags": []
   },
   "outputs": [],
   "source": [
    "# TRAIN AND SEE THE ACCURACY FOR EACH LOGISTIC REGRESSION MODEL WITH DIFFERENT HYPERPARAMETERS\n",
    "\n",
    "model_2 = LogisticRegression(multi_class='multinomial')\n",
    "\n",
    "solvers = ['newton-cg', 'lbfgs', 'sag', 'saga']\n",
    "penalty = ['l2','l1', 'elasticnet']\n",
    "c_values = [100, 10, 1.0, 0.1, 0.01]\n",
    "\n",
    "grid = dict(solver=solvers,penalty=penalty,C=c_values)\n",
    "cv = RepeatedStratifiedKFold(n_splits=10, n_repeats=3, random_state=44)\n",
    "\n",
    "#Repeats Stratified K-Fold n times with different randomization in each repetition.\n",
    "#This cross-validation object is a variation of KFold that returns stratified folds. The folds are made by preserving the percentage of samples for each class.\n",
    "#n_splits, Number of folds. Must be at least 2.\n",
    "#n_repeats, Number of times cross-validator needs to be repeated.\n",
    "\n",
    "grid_search = GridSearchCV(estimator=model, param_grid=grid, n_jobs=-1, cv=cv, scoring='accuracy',error_score=0)\n",
    "grid_result = grid_search.fit(X_train, y_train)\n",
    "\n",
    "print(\"Best: %f using %s\" % (grid_result.best_score_, grid_result.best_params_))\n",
    "means = grid_result.cv_results_['mean_test_score']\n",
    "stds = grid_result.cv_results_['std_test_score']\n",
    "params = grid_result.cv_results_['params']\n",
    "\n",
    "for mean, stdev, param in zip(means, stds, params):\n",
    "    print(\"%f (%f) with: %r\" % (mean, stdev, param))"
   ]
  },
  {
   "cell_type": "code",
   "execution_count": null,
   "id": "8ac10cd6-4269-4bc7-9abf-6e0a859709bd",
   "metadata": {
    "tags": []
   },
   "outputs": [],
   "source": [
    "# FIT THE BEST LOGISTIC REGRESSION MODEL TO REACH IT AFTER GRID SEARCH\n",
    "\n",
    "grid_search.best_params_\n",
    "model_2 = grid_search.best_estimator_\n",
    "model_2.fit(X_train, y_train)"
   ]
  },
  {
   "cell_type": "code",
   "execution_count": null,
   "id": "833e9dff-8245-4624-8074-cdaec0e401d1",
   "metadata": {
    "tags": []
   },
   "outputs": [],
   "source": [
    "# PREDICT THE TRAIN AND TEST OUTPUT TO SEE WHETHER THE RANDOM FOREST MODEL OVERFITS OT NOT\n",
    "\n",
    "train_pred_2 = model_2.predict(X_train)\n",
    "y_pred_2 = model_2.predict(X_test)"
   ]
  },
  {
   "cell_type": "code",
   "execution_count": null,
   "id": "0da0591e-e9f8-4a10-aef4-6872e3b4a89a",
   "metadata": {},
   "outputs": [],
   "source": [
    "# VISUALIZE THE RESULT AND CALCULATE THE ACCURACY FOR TEST DATA\n",
    "\n",
    "cm = confusion_matrix(y_test, y_pred_2)\n",
    "ax = sns.heatmap(cm, annot=True, annot_kws={\"size\": 13.5}, fmt=\".0f\", cmap = 'RdYlBu')\n",
    "ax.xaxis.set_ticklabels([1,2,3,4,5,6])\n",
    "ax.yaxis.set_ticklabels([1,2,3,4,5,6])\n",
    "ax.set_title('Confusion matrix', fontsize=17)\n",
    "ax.set_xlabel('Predictions', fontsize=17)\n",
    "ax.set_ylabel('True values', fontsize=17)\n",
    "plt.show();\n",
    "print('test acc:', model_2.score(X_test, y_test))"
   ]
  },
  {
   "cell_type": "code",
   "execution_count": null,
   "id": "7dd96ff8-c1ee-429b-aaed-229a86083cf0",
   "metadata": {},
   "outputs": [],
   "source": [
    "# VISUALIZE THE RESULT AND CALCULATE THE ACCURACY FOR TRAIN DATA\n",
    "\n",
    "cm = confusion_matrix(y_train, train_pred_2)\n",
    "ax = sns.heatmap(cm, annot=True, annot_kws={\"size\": 13.5}, fmt=\".0f\", cmap = 'RdYlBu')\n",
    "ax.xaxis.set_ticklabels([1,2,3,4,5,6])\n",
    "ax.yaxis.set_ticklabels([1,2,3,4,5,6])\n",
    "ax.set_title('Confusion matrix', fontsize=17)\n",
    "ax.set_xlabel('Predictions', fontsize=17)\n",
    "ax.set_ylabel('True values', fontsize=17)\n",
    "plt.show();\n",
    "print('train acc:', model_2.score(X_train, y_train))"
   ]
  },
  {
   "cell_type": "code",
   "execution_count": null,
   "id": "9240170c-9a58-4926-9dd9-6e5fa3620e2f",
   "metadata": {},
   "outputs": [],
   "source": [
    "# SAVE THE RANDOM FOREST MODEL FOR FUTURE USE\n",
    "\n",
    "filename = 'name_of_the_logistic_regression_model.sav'\n",
    "joblib.dump(model_2, filename)"
   ]
  }
 ],
 "metadata": {
  "kernelspec": {
   "display_name": "Python 3",
   "language": "python",
   "name": "python3"
  },
  "language_info": {
   "codemirror_mode": {
    "name": "ipython",
    "version": 3
   },
   "file_extension": ".py",
   "mimetype": "text/x-python",
   "name": "python",
   "nbconvert_exporter": "python",
   "pygments_lexer": "ipython3",
   "version": "3.8.8"
  }
 },
 "nbformat": 4,
 "nbformat_minor": 5
}
